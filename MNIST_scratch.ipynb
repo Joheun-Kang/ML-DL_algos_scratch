{
 "cells": [
  {
   "cell_type": "code",
   "execution_count": null,
   "metadata": {},
   "outputs": [],
   "source": []
  },
  {
   "cell_type": "code",
   "execution_count": 262,
   "metadata": {},
   "outputs": [],
   "source": [
    "import numpy as np\n",
    "def fetch(url):\n",
    "    import requests, gzip, os, hashlib\n",
    "    fp = os.path.join(\"/tmp\", hashlib.md5(url.encode('utf-8')).hexdigest())\n",
    "    if os.path.isfile(fp):\n",
    "        with open(fp, \"rb\") as f:\n",
    "            dat = f.read()\n",
    "    else:\n",
    "        with open(fp, \"wb\") as f:\n",
    "            dat = requests.get(url).content\n",
    "            f.write(dat)\n",
    "    return np.frombuffer(gzip.decompress(dat), dtype=np.uint8).copy()\n",
    "X_train = fetch(\"http://yann.lecun.com/exdb/mnist/train-images-idx3-ubyte.gz\")[0x10:].reshape((-1, 28, 28))\n",
    "Y_train = fetch(\"http://yann.lecun.com/exdb/mnist/train-labels-idx1-ubyte.gz\")[8:]\n",
    "X_test = fetch(\"http://yann.lecun.com/exdb/mnist/t10k-images-idx3-ubyte.gz\")[0x10:].reshape((-1, 28, 28))\n",
    "Y_test = fetch(\"http://yann.lecun.com/exdb/mnist/t10k-labels-idx1-ubyte.gz\")[8:]"
   ]
  },
  {
   "cell_type": "code",
   "execution_count": 391,
   "metadata": {},
   "outputs": [
    {
     "data": {
      "text/plain": [
       "<matplotlib.image.AxesImage at 0x7ff7e7d56d50>"
      ]
     },
     "execution_count": 391,
     "metadata": {},
     "output_type": "execute_result"
    },
    {
     "data": {
      "text/plain": [
       "<Figure size 432x288 with 0 Axes>"
      ]
     },
     "metadata": {},
     "output_type": "display_data"
    },
    {
     "data": {
      "image/png": "[encoded data removed]",
      "text/plain": [
       "<Figure size 432x288 with 4 Axes>"
      ]
     },
     "metadata": {
      "needs_background": "light"
     },
     "output_type": "display_data"
    }
   ],
   "source": [
    "import matplotlib.pyplot as plt\n",
    "%matplotlib inline\n",
    "\n",
    "#image is a numpy array\n",
    "# imshow(data1,data2)\n",
    "\n",
    "plt.figure()\n",
    "\n",
    "#subplot(r,c) provide the no. of rows and columns\n",
    "f, axarr = plt.subplots(4,1) \n",
    "\n",
    "# use the created array to output your multiple images. In this case I have stacked 4 images vertically\n",
    "axarr[0].imshow(X_train[0])\n",
    "axarr[1].imshow(X_train[1])\n",
    "axarr[2].imshow(X_train[2])\n",
    "axarr[3].imshow(X_train[3])\n"
   ]
  },
  {
   "cell_type": "code",
   "execution_count": 392,
   "metadata": {},
   "outputs": [],
   "source": [
    "import numpy as np\n",
    "import random"
   ]
  },
  {
   "cell_type": "code",
   "execution_count": 393,
   "metadata": {},
   "outputs": [
    {
     "data": {
      "text/plain": [
       "(60000, 28, 28)"
      ]
     },
     "execution_count": 393,
     "metadata": {},
     "output_type": "execute_result"
    }
   ],
   "source": [
    "X_train.shape\n",
    "\n"
   ]
  },
  {
   "cell_type": "code",
   "execution_count": 394,
   "metadata": {},
   "outputs": [
    {
     "name": "stdout",
     "output_type": "stream",
     "text": [
      "[[[ 1  2  3]\n",
      "  [ 4  5  6]]\n",
      "\n",
      " [[ 7  8  9]\n",
      "  [10 11 12]]]\n",
      "2\n"
     ]
    },
    {
     "data": {
      "text/plain": [
       "array([[ 1,  2,  3,  4,  5,  6],\n",
       "       [ 7,  8,  9, 10, 11, 12]])"
      ]
     },
     "execution_count": 394,
     "metadata": {},
     "output_type": "execute_result"
    }
   ],
   "source": [
    "ex =np.array([[[1,2,3],[4,5,6]], [[7,8,9],[10,11,12]]])\n",
    "print(ex)\n",
    "print(len(ex))\n",
    "ex.shape\n",
    "ex = ex.reshape(2,6)\n",
    "ex"
   ]
  },
  {
   "cell_type": "code",
   "execution_count": 395,
   "metadata": {},
   "outputs": [
    {
     "data": {
      "text/plain": [
       "(60000, 28, 28)"
      ]
     },
     "execution_count": 395,
     "metadata": {},
     "output_type": "execute_result"
    }
   ],
   "source": [
    "X_train.shape"
   ]
  },
  {
   "cell_type": "code",
   "execution_count": 396,
   "metadata": {},
   "outputs": [
    {
     "data": {
      "text/plain": [
       "<matplotlib.image.AxesImage at 0x7ff7e4c0ef90>"
      ]
     },
     "execution_count": 396,
     "metadata": {},
     "output_type": "execute_result"
    },
    {
     "data": {
      "image/png": "[encoded data removed]",
      "text/plain": [
       "<Figure size 432x288 with 1 Axes>"
      ]
     },
     "metadata": {
      "needs_background": "light"
     },
     "output_type": "display_data"
    },
    {
     "data": {
      "image/png": "[encoded data removed]",
      "text/plain": [
       "<Figure size 432x288 with 1 Axes>"
      ]
     },
     "metadata": {
      "needs_background": "light"
     },
     "output_type": "display_data"
    }
   ],
   "source": [
    "# numpy version\n",
    "\n",
    "def logsumexp(x):\n",
    "  #return np.log(np.exp(x).sum(axis=1))\n",
    "  # http://gregorygundersen.com/blog/2020/02/09/log-sum-exp/\n",
    "    c = x.max(axis=1)\n",
    "    #print('c',c.shape)\n",
    "    return c + np.log(np.exp(x-c.reshape((-1, 1))).sum(axis=1))\n",
    "\n",
    "# image put in to the layer as a batch(bunch)         \n",
    "def forward(images,labels):\n",
    "    \n",
    "    out = np.zeros((len(labels),10), np.float32)\n",
    "    out[range(out.shape[0]),labels] = 1\n",
    "\n",
    "    # first layer \n",
    "    images_l1  = images.dot(w1) # 1st layer 6000* 784 x  784 * 128  = 6000* 128\n",
    "    # ReLu activation\n",
    "    images_relu  = np.maximum(images_l1,0) # relu activation 6000*128\n",
    "    # 2nd layer\n",
    "    images_l2 = images_relu.dot(w2) # 2nd layer 6000*128 x 128 * 10 = 6000*10 \n",
    "    # loss \n",
    "    images_lsm = images_l2 - logsumexp(images_l2).reshape((-1, 1))\n",
    "    images_loss = (-out * images_lsm).mean(axis=1)\n",
    "    d_out =  -out/len(labels)\n",
    "   \n",
    "\n",
    "\n",
    "    # ** derivative ( back prop) **\n",
    "    \n",
    "    # derivative of log soft max \n",
    "    dx_lsm = d_out - np.exp(images_lsm)*d_out.sum(axis = 1).reshape((-1,1))\n",
    "    # derivative of l2 layer \n",
    "    d_l2 = images_relu.T.dot(dx_lsm)\n",
    "    dx_relu = dx_lsm.dot(w2.T)\n",
    "    # derivative of relu\n",
    "    dx_l1 = (images_relu > 0).astype(np.float32) * dx_relu\n",
    "\n",
    "    # derivative of l1\n",
    "    d_l1 = images.T.dot(dx_l1)\n",
    "    \n",
    "    return images_loss, images_l2, d_l1, d_l2\n",
    "\n",
    "\n",
    "samp = [0,1,2,3]\n",
    "images_loss, images_l2, d_l1, d_l2 = forward(X_test[samp].reshape((-1, 28*28)), Y_test[samp])\n",
    "\n",
    "plt.imshow(d_l1.T)\n",
    "plt.figure()\n",
    "plt.imshow(d_l2.T)\n",
    "    \n"
   ]
  },
  {
   "cell_type": "code",
   "execution_count": 397,
   "metadata": {},
   "outputs": [
    {
     "data": {
      "text/plain": [
       "[<matplotlib.lines.Line2D at 0x7ff7ec9b1250>]"
      ]
     },
     "execution_count": 397,
     "metadata": {},
     "output_type": "execute_result"
    },
    {
     "data": {
      "image/png": "[encoded data removed]",
      "text/plain": [
       "<Figure size 432x288 with 1 Axes>"
      ]
     },
     "metadata": {
      "needs_background": "light"
     },
     "output_type": "display_data"
    }
   ],
   "source": [
    "# numpy training \n",
    "\n",
    "def init_layer(m,n):\n",
    "    res = np.random.uniform(-1.,1., size = (m,n))\n",
    "    return res.astype(np.float32)\n",
    "\n",
    "np.random.seed(1337)\n",
    "w1 = init_layer(784,128) # initialize weight for l1\n",
    "w2 = init_layer(128, 10) # initialize wiehgt for l2\n",
    "\n",
    "lr = 0.001\n",
    "batch_size = 128\n",
    "losses = []\n",
    "acces = []\n",
    "\n",
    "for _ in range(1000):\n",
    "    samp = np.random.randint(0,X_train.shape[0],size = (batch_size))\n",
    "    # each sample is an array of batch_size of random integers \n",
    "    \n",
    "    # for each sample (every single image in one batch), x will be the stack of 128 image array\n",
    "    X = X_train[samp].reshape((-1,28*28))\n",
    "    \n",
    "    \n",
    "    Y = Y_train[samp]\n",
    "\n",
    "    x_loss, x_12,d_11,d_12 = forward(X,Y)\n",
    "    \n",
    "    cat = np.argmax(x_12,axis = 1)\n",
    "    acc = (cat == Y).mean()\n",
    "    \n",
    "    # sgd\n",
    "    w1 = w1-lr*d_11\n",
    "    w2 = w2-lr*d_12\n",
    "    \n",
    "    loss = x_loss.mean()\n",
    "    losses.append(loss/100)\n",
    "    acces.append(acc)\n",
    "#print(acces)\n",
    "    \n",
    "\n",
    "    \n",
    "plt.ylim(-.1, 1.1)\n",
    "plt.plot(losses)\n",
    "plt.plot(acces)"
   ]
  },
  {
   "cell_type": "code",
   "execution_count": 398,
   "metadata": {},
   "outputs": [
    {
     "data": {
      "text/plain": [
       "0.8518"
      ]
     },
     "execution_count": 398,
     "metadata": {},
     "output_type": "execute_result"
    }
   ],
   "source": [
    "# model eval with test data\n",
    "\n",
    "def f(imgs):\n",
    "    imgs = imgs.dot(w1)\n",
    "    imgs = np.maximum(imgs,0)\n",
    "    imgs = imgs.dot(w2)\n",
    "    return imgs\n",
    "def eval():\n",
    "    Y_test_preds_out = f(X_test.reshape((-1, 28*28)))\n",
    "    Y_test_preds = np.argmax(Y_test_preds_out, axis=1)\n",
    "    return (Y_test == Y_test_preds).mean()\n",
    "eval()"
   ]
  },
  {
   "cell_type": "code",
   "execution_count": 399,
   "metadata": {},
   "outputs": [
    {
     "data": {
      "text/plain": [
       "<matplotlib.image.AxesImage at 0x7ff7eca80f50>"
      ]
     },
     "execution_count": 399,
     "metadata": {},
     "output_type": "execute_result"
    },
    {
     "data": {
      "image/png": "[encoded data removed]",
      "text/plain": [
       "<Figure size 432x288 with 1 Axes>"
      ]
     },
     "metadata": {
      "needs_background": "light"
     },
     "output_type": "display_data"
    }
   ],
   "source": [
    "m = [[0,0,0,0,0,0,0],\n",
    "     [0,0,1,1,1,0,0],\n",
    "     [0,0,0,0,1,0,0],\n",
    "     [0,0,1,1,1,0,0],\n",
    "     [0,0,0,0,1,0,0],\n",
    "     [0,0,1,1,1,0,0],\n",
    "     [0,0,0,0,0,0,0]]\n",
    "# upscale to 28x28\n",
    "m = np.concatenate([np.concatenate([[x]*4 for x in y]*4) for y in m])\n",
    "plt.imshow(m.reshape(28,28))"
   ]
  },
  {
   "cell_type": "code",
   "execution_count": 400,
   "metadata": {},
   "outputs": [
    {
     "data": {
      "text/plain": [
       "3"
      ]
     },
     "execution_count": 400,
     "metadata": {},
     "output_type": "execute_result"
    }
   ],
   "source": [
    "x = m.reshape(1, -1).dot(w1)\n",
    "x = np.maximum(x, 0)\n",
    "x = x.dot(w2)\n",
    "np.argmax(x)\n"
   ]
  },
  {
   "cell_type": "code",
   "execution_count": null,
   "metadata": {},
   "outputs": [],
   "source": []
  }
 ],
 "metadata": {
  "kernelspec": {
   "display_name": "Python 3",
   "language": "python",
   "name": "python3"
  },
  "language_info": {
   "codemirror_mode": {
    "name": "ipython",
    "version": 3
   },
   "file_extension": ".py",
   "mimetype": "text/x-python",
   "name": "python",
   "nbconvert_exporter": "python",
   "pygments_lexer": "ipython3",
   "version": "3.7.6"
  },
  "toc": {
   "base_numbering": 1,
   "nav_menu": {},
   "number_sections": true,
   "sideBar": true,
   "skip_h1_title": false,
   "title_cell": "Table of Contents",
   "title_sidebar": "Contents",
   "toc_cell": false,
   "toc_position": {},
   "toc_section_display": true,
   "toc_window_display": false
  }
 },
 "nbformat": 4,
 "nbformat_minor": 4
}
